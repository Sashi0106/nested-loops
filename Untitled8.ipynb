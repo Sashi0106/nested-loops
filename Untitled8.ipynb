{
 "cells": [
  {
   "cell_type": "code",
   "execution_count": 13,
   "id": "74796200-b44e-4eaa-ad71-3165b32fb872",
   "metadata": {},
   "outputs": [
    {
     "name": "stdin",
     "output_type": "stream",
     "text": [
      "enter the size of n 5\n"
     ]
    },
    {
     "name": "stdout",
     "output_type": "stream",
     "text": [
      "* * * * * \n",
      "* *   * * \n",
      "*   *   * \n",
      "* *   * * \n",
      "* * * * * \n"
     ]
    }
   ],
   "source": [
    "#hollow square with dignols\n",
    "n=int(input(\"enter the size of n\"))\n",
    "for i in range (n):\n",
    "    for j in range (n):\n",
    "        if i==0 or i==n-1 or j==0 or j==n-1 or i==j or i+j==n-1:\n",
    "            print('*',end=' ')\n",
    "        else:\n",
    "            print(' ',end=' ')\n",
    "    print()"
   ]
  },
  {
   "cell_type": "code",
   "execution_count": 15,
   "id": "4b29197b-0ec0-476f-a45b-e6a3d686a536",
   "metadata": {},
   "outputs": [
    {
     "name": "stdin",
     "output_type": "stream",
     "text": [
      "enter the size of n 5\n"
     ]
    },
    {
     "name": "stdout",
     "output_type": "stream",
     "text": [
      "* * * * * \n",
      "          \n",
      "          \n",
      "          \n",
      "* * * * * \n"
     ]
    }
   ],
   "source": [
    "#hollow square with dignols\n",
    "n=int(input(\"enter the size of n\"))\n",
    "for i in range (n):\n",
    "    for j in range (n):\n",
    "        if i==0 or i==n-1:\n",
    "            print('*',end=' ')\n",
    "        else:\n",
    "            print(' ',end=' ')\n",
    "    print()"
   ]
  },
  {
   "cell_type": "code",
   "execution_count": 17,
   "id": "b342f059-d65c-4dc4-ad0c-02ab7f207949",
   "metadata": {},
   "outputs": [
    {
     "name": "stdin",
     "output_type": "stream",
     "text": [
      "enter the size of n 5\n"
     ]
    },
    {
     "name": "stdout",
     "output_type": "stream",
     "text": [
      "*       * \n",
      "*       * \n",
      "*       * \n",
      "*       * \n",
      "*       * \n"
     ]
    }
   ],
   "source": [
    "#hollow square with dignols\n",
    "n=int(input(\"enter the size of n\"))\n",
    "for i in range (n):\n",
    "    for j in range (n):\n",
    "        if j==0 or j==n-1:\n",
    "            print('*',end=' ')\n",
    "        else:\n",
    "            print(' ',end=' ')\n",
    "    print()"
   ]
  },
  {
   "cell_type": "code",
   "execution_count": 23,
   "id": "3296c872-e046-4ed3-bab9-d29d5fca70db",
   "metadata": {},
   "outputs": [
    {
     "name": "stdin",
     "output_type": "stream",
     "text": [
      "enter the size of n 4\n"
     ]
    },
    {
     "name": "stdout",
     "output_type": "stream",
     "text": [
      "*     * \n",
      "  * *   \n",
      "  * *   \n",
      "*     * \n"
     ]
    }
   ],
   "source": [
    "#hollow square with dignols\n",
    "n=int(input(\"enter the size of n\"))\n",
    "for i in range (n):\n",
    "    for j in range (n):\n",
    "        if i==j or i+j==n-1:\n",
    "            print('*',end=' ')\n",
    "        else:\n",
    "            print(' ',end=' ')\n",
    "    print()"
   ]
  },
  {
   "cell_type": "code",
   "execution_count": 29,
   "id": "90448ed3-db8d-4b4d-8ce4-d769628e3018",
   "metadata": {},
   "outputs": [
    {
     "name": "stdin",
     "output_type": "stream",
     "text": [
      "enter the size of n 5\n"
     ]
    },
    {
     "name": "stdout",
     "output_type": "stream",
     "text": [
      "^ ^ ^ ^ ^ \n",
      "^ ^ ^ ^ \n",
      "^ ^ ^ \n",
      "^ ^ \n",
      "^ \n"
     ]
    }
   ],
   "source": [
    "#print in right angled triangle in mirror image\n",
    "j=int(input(\"enter the size of n\"))\n",
    "for i in range (n):\n",
    "    for j in range (j):\n",
    "        print('^',end=' ')\n",
    "    print()"
   ]
  },
  {
   "cell_type": "code",
   "execution_count": 31,
   "id": "fa501073-f66b-4ffb-93bb-2d08ddcbafc6",
   "metadata": {},
   "outputs": [
    {
     "name": "stdin",
     "output_type": "stream",
     "text": [
      " 5\n"
     ]
    },
    {
     "name": "stdout",
     "output_type": "stream",
     "text": [
      "* * * * * \n",
      "* * * * \n",
      "* * * \n",
      "* * \n",
      "* \n"
     ]
    }
   ],
   "source": [
    "n=int(input())\n",
    "for i  in range(n):\n",
    "    for j in range(n-i):\n",
    "        print(\"*\",end=' ')\n",
    "    \n"
   ]
  },
  {
   "cell_type": "code",
   "execution_count": 47,
   "id": "c9d1297d-27ef-442d-94bc-ab50b1bbf75d",
   "metadata": {},
   "outputs": [
    {
     "name": "stdout",
     "output_type": "stream",
     "text": [
      "* \n",
      "* * \n",
      "* * * \n",
      "* * * * \n",
      "* * * * * \n",
      "* * * * \n",
      "* * * \n",
      "* * \n",
      "* \n"
     ]
    }
   ],
   "source": [
    "n=5\n",
    "for i in range(1,2*n):\n",
    "    s=i if i<=n else 2*n-i\n",
    "    for j in range(s):\n",
    "        print(\"*\",end=' ')\n",
    "    print()"
   ]
  },
  {
   "cell_type": "code",
   "execution_count": 49,
   "id": "b4921e4f-1d70-4c09-8099-e9a3d3bb3054",
   "metadata": {},
   "outputs": [
    {
     "name": "stdout",
     "output_type": "stream",
     "text": [
      "* \n",
      "* * \n",
      "* * * \n",
      "* * * * \n",
      "* * * * * \n"
     ]
    }
   ],
   "source": [
    "n=5\n",
    "for i in range(1,n+1):\n",
    "    for j in range(i):\n",
    "        print(\"*\", end=' ')\n",
    "    print()"
   ]
  },
  {
   "cell_type": "code",
   "execution_count": 83,
   "id": "d3f06c88-0244-4a08-8f19-1e8b44a72e13",
   "metadata": {},
   "outputs": [
    {
     "name": "stdout",
     "output_type": "stream",
     "text": [
      "        * \n",
      "          *           * * *           * * * * *           * * * * * * *           * * * * * * * * * \n",
      "      * * * \n",
      "          *           * * *           * * * * *           * * * * * * *           * * * * * * * * * \n",
      "    * * * * * \n",
      "          *           * * *           * * * * *           * * * * * * *           * * * * * * * * * \n",
      "  * * * * * * * \n",
      "          *           * * *           * * * * *           * * * * * * *           * * * * * * * * * \n",
      "* * * * * * * * * \n",
      "          *           * * *           * * * * *           * * * * * * *           * * * * * * * * * \n"
     ]
    }
   ],
   "source": [
    "n=5\n",
    "for i in range(1,n+1):\n",
    "    for s in range(n-i):\n",
    "        print(' ',end=' ')\n",
    "    for st in range(2*i-1):\n",
    "        print('*',end=' ')\n",
    "    print()\n",
    "    for i in range(1,n+1):\n",
    "       for j in range(1,n+1):\n",
    "           print(' ',end=' ')\n",
    "       for st in range(2*i-1):\n",
    "           print('*',end=' ')\n",
    "    print()\n",
    "    "
   ]
  },
  {
   "cell_type": "code",
   "execution_count": 115,
   "id": "995b0a2e-1c4e-43b9-a8ad-33018970c648",
   "metadata": {},
   "outputs": [
    {
     "name": "stdout",
     "output_type": "stream",
     "text": [
      "        1   \n",
      "      1   1   \n",
      "    1   2   1   \n",
      "  1   3   3   1   \n",
      "1   4   6   4   1   \n"
     ]
    }
   ],
   "source": [
    "n=5\n",
    "for i in range(n):\n",
    "    for s in range(n-i-1):\n",
    "        print('', end='  ')\n",
    "    num=1\n",
    "    for j in range(i+1):\n",
    "        print(f\"{num}  \", end=' ')\n",
    "        num=num*(i-j)//(j+1)\n",
    "    print()"
   ]
  },
  {
   "cell_type": "code",
   "execution_count": 19,
   "id": "bbb90752-a5b7-46a5-9d5c-3b424f9325f6",
   "metadata": {},
   "outputs": [
    {
     "name": "stdin",
     "output_type": "stream",
     "text": [
      "enter the size of n 10\n"
     ]
    },
    {
     "name": "stdout",
     "output_type": "stream",
     "text": [
      "\n",
      "10 9 \n",
      "10 8 10 8 \n",
      "10 7 10 7 10 7 \n",
      "10 6 10 6 10 6 10 6 \n",
      "10 5 10 5 10 5 10 5 10 5 \n",
      "10 4 10 4 10 4 10 4 10 4 10 4 \n",
      "10 3 10 3 10 3 10 3 10 3 10 3 10 3 \n",
      "10 2 10 2 10 2 10 2 10 2 10 2 10 2 10 2 \n",
      "10 1 10 1 10 1 10 1 10 1 10 1 10 1 10 1 10 1 \n"
     ]
    }
   ],
   "source": [
    "#floyd's triangle\n",
    "n=int(input(\"enter the size of n\"))\n",
    "for i in range (n):\n",
    "    for j in range (i):\n",
    "        print(n,n-i,end=' ')\n",
    "    print()"
   ]
  },
  {
   "cell_type": "markdown",
   "id": "f6f56910-dff1-4f1d-a7d6-fd5ea7ac86f9",
   "metadata": {},
   "source": [
    "# 1\n",
    "#2 3\n",
    "#4 5 6"
   ]
  }
 ],
 "metadata": {
  "kernelspec": {
   "display_name": "Python 3 (ipykernel)",
   "language": "python",
   "name": "python3"
  },
  "language_info": {
   "codemirror_mode": {
    "name": "ipython",
    "version": 3
   },
   "file_extension": ".py",
   "mimetype": "text/x-python",
   "name": "python",
   "nbconvert_exporter": "python",
   "pygments_lexer": "ipython3",
   "version": "3.12.7"
  }
 },
 "nbformat": 4,
 "nbformat_minor": 5
}
