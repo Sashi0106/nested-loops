{
 "cells": [
  {
   "cell_type": "code",
   "execution_count": 1,
   "id": "6e1a4c06-92f5-4c29-98c3-4b03a281231b",
   "metadata": {},
   "outputs": [
    {
     "name": "stdin",
     "output_type": "stream",
     "text": [
      "enter the size of n 5\n"
     ]
    },
    {
     "name": "stdout",
     "output_type": "stream",
     "text": [
      "^ ^ ^ ^ ^ \n",
      "^ ^ ^ ^ ^ \n",
      "^ ^ ^ ^ ^ \n",
      "^ ^ ^ ^ ^ \n",
      "^ ^ ^ ^ ^ \n"
     ]
    }
   ],
   "source": [
    "#nested loops\n",
    "n=int(input(\"enter the size of n\"))\n",
    "for i in range (n):\n",
    "    for j in range (n):\n",
    "        print('^',end=' ')\n",
    "    print()"
   ]
  },
  {
   "cell_type": "code",
   "execution_count": 3,
   "id": "58d11ed7-a3de-47d0-9d0d-bfe8cb6dce97",
   "metadata": {},
   "outputs": [
    {
     "name": "stdin",
     "output_type": "stream",
     "text": [
      "enter the size of n 5\n"
     ]
    },
    {
     "name": "stdout",
     "output_type": "stream",
     "text": [
      "j j j j j \n",
      "j j j j j \n",
      "j j j j j \n",
      "j j j j j \n",
      "j j j j j \n"
     ]
    }
   ],
   "source": [
    "n=int(input(\"enter the size of n\"))\n",
    "for i in range (n):\n",
    "    for j in range (n):\n",
    "        print('j',end=' ')\n",
    "    print()"
   ]
  },
  {
   "cell_type": "code",
   "execution_count": 5,
   "id": "2ecbe707-01ca-46dd-a477-24370109840e",
   "metadata": {},
   "outputs": [
    {
     "name": "stdin",
     "output_type": "stream",
     "text": [
      "enter the size of n 5\n"
     ]
    },
    {
     "name": "stdout",
     "output_type": "stream",
     "text": [
      "\n",
      "^ \n",
      "^ ^ \n",
      "^ ^ ^ \n",
      "^ ^ ^ ^ \n"
     ]
    }
   ],
   "source": [
    "n=int(input(\"enter the size of n\"))\n",
    "for i in range (n):\n",
    "    for j in range (i):\n",
    "        print('^',end=' ')\n",
    "    print()"
   ]
  },
  {
   "cell_type": "code",
   "execution_count": 17,
   "id": "6d8620f9-25e8-48b2-adb4-c99f15be5aeb",
   "metadata": {},
   "outputs": [
    {
     "name": "stdout",
     "output_type": "stream",
     "text": [
      "\n",
      "*\n",
      "**\n",
      "***\n",
      "****\n"
     ]
    }
   ],
   "source": [
    "#right-angled trianle using  a single for loop\n",
    "for i in range(5):\n",
    "    print(\"*\" *i)"
   ]
  },
  {
   "cell_type": "code",
   "execution_count": 21,
   "id": "3631d732-4f76-4be6-9d3b-ac440d745ed9",
   "metadata": {},
   "outputs": [
    {
     "name": "stdout",
     "output_type": "stream",
     "text": [
      "* * * * * \n",
      "* * * * * \n",
      "* * * * * \n",
      "* * * * * \n",
      "* * * * * \n"
     ]
    }
   ],
   "source": [
    "for i in range(5):\n",
    "    print(\"* \" *5)"
   ]
  },
  {
   "cell_type": "code",
   "execution_count": 37,
   "id": "1a59b6a6-cda2-48ce-836d-538d285001ca",
   "metadata": {},
   "outputs": [
    {
     "name": "stdin",
     "output_type": "stream",
     "text": [
      "enter the size of n 5\n"
     ]
    },
    {
     "name": "stdout",
     "output_type": "stream",
     "text": [
      "* * * * * \n",
      "*       * \n",
      "*       * \n",
      "*       * \n",
      "* * * * * \n"
     ]
    }
   ],
   "source": [
    "#hollow square\n",
    "n=int(input(\"enter the size of n\"))\n",
    "for i in range (n):\n",
    "    for j in range (n):\n",
    "        if i==0 or i==n-1 or j==0 or j==n-1:\n",
    "            print('*',end=' ')\n",
    "        else:\n",
    "            print(' ',end=' ')\n",
    "    print()"
   ]
  },
  {
   "cell_type": "code",
   "execution_count": 39,
   "id": "06de907b-29b2-4d20-82ad-055bf1d7b463",
   "metadata": {},
   "outputs": [
    {
     "name": "stdout",
     "output_type": "stream",
     "text": [
      "S \n",
      "S a \n",
      "S a s \n",
      "S a s h \n",
      "S a s h i \n"
     ]
    }
   ],
   "source": [
    "text='Sashi'\n",
    "r=len(text)\n",
    "for i in range(r):\n",
    "    for j in range(i+1):\n",
    "        print(text[j],end=' ')\n",
    "    print()"
   ]
  },
  {
   "cell_type": "code",
   "execution_count": null,
   "id": "3b14c96c-079c-4b74-9eea-f52b641ab82a",
   "metadata": {},
   "outputs": [],
   "source": [
    "#hollow square\n",
    "n=int(input(\"enter the size of n\"))\n",
    "for i in range (n):\n",
    "    for j in range (n):\n",
    "        if i==0 or i==n-1 or j==0 or j==n-1 or i==j:\n",
    "        :\n",
    "            print('*',end=' ')\n",
    "        else:\n",
    "            print(' ',end=' ')\n",
    "    print()"
   ]
  },
  {
   "cell_type": "code",
   "execution_count": null,
   "id": "04fccf83-f28e-42dd-be75-0352593204aa",
   "metadata": {},
   "outputs": [],
   "source": []
  }
 ],
 "metadata": {
  "kernelspec": {
   "display_name": "Python 3 (ipykernel)",
   "language": "python",
   "name": "python3"
  },
  "language_info": {
   "codemirror_mode": {
    "name": "ipython",
    "version": 3
   },
   "file_extension": ".py",
   "mimetype": "text/x-python",
   "name": "python",
   "nbconvert_exporter": "python",
   "pygments_lexer": "ipython3",
   "version": "3.12.7"
  }
 },
 "nbformat": 4,
 "nbformat_minor": 5
}
